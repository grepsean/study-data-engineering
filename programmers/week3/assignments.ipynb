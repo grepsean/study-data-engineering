{
  "nbformat": 4,
  "nbformat_minor": 0,
  "metadata": {
    "colab": {
      "name": "week3.py",
      "provenance": [],
      "collapsed_sections": []
    },
    "kernelspec": {
      "name": "python3",
      "display_name": "Python 3"
    }
  },
  "cells": [
    {
      "cell_type": "markdown",
      "metadata": {
        "id": "EVuF1_D9zWBV"
      },
      "source": [
        "Set up Configuration"
      ]
    },
    {
      "cell_type": "code",
      "metadata": {
        "id": "wOS9-QY1amnt",
        "outputId": "c024d15d-6113-4b91-e2c3-842375b61720",
        "colab": {
          "base_uri": "https://localhost:8080/"
        }
      },
      "source": [
        "%load_ext sql"
      ],
      "execution_count": 73,
      "outputs": [
        {
          "output_type": "stream",
          "text": [
            "The sql extension is already loaded. To reload it, use:\n",
            "  %reload_ext sql\n"
          ],
          "name": "stdout"
        }
      ]
    },
    {
      "cell_type": "code",
      "metadata": {
        "id": "XehcNor8a-za",
        "outputId": "a253785a-dbde-4ec2-f983-9c0637c0678c",
        "colab": {
          "base_uri": "https://localhost:8080/",
          "height": 35
        }
      },
      "source": [
        "# ID와 PW를 자신의 환경에 맞게 수정\n",
        "%sql postgresql://..."
      ],
      "execution_count": null,
      "outputs": [
        {
          "output_type": "execute_result",
          "data": {
            "application/vnd.google.colaboratory.intrinsic+json": {
              "type": "string"
            },
            "text/plain": [
              "'Connected: seankkang@dev'"
            ]
          },
          "metadata": {
            "tags": []
          },
          "execution_count": 74
        }
      ]
    },
    {
      "cell_type": "markdown",
      "metadata": {
        "id": "bmS7kKUHzi1S"
      },
      "source": [
        "Example of Running a SQL:  \n",
        "이후 아래 SQL에서 스키마는 자신의 스키마로 변경"
      ]
    },
    {
      "cell_type": "code",
      "metadata": {
        "id": "mPtvJEvubNoV",
        "outputId": "093afbb5-bc04-460b-98ef-0cbf8de0d9cd",
        "colab": {
          "base_uri": "https://localhost:8080/",
          "height": 304
        }
      },
      "source": [
        "%%sql\n",
        "\n",
        "SELECT * FROM raw_data.session_timestamp LIMIT 10"
      ],
      "execution_count": null,
      "outputs": [
        {
          "output_type": "stream",
          "text": [
            " * postgresql://...\n",
            "10 rows affected.\n"
          ],
          "name": "stdout"
        },
        {
          "output_type": "execute_result",
          "data": {
            "text/html": [
              "<table>\n",
              "    <tr>\n",
              "        <th>sessionid</th>\n",
              "        <th>ts</th>\n",
              "    </tr>\n",
              "    <tr>\n",
              "        <td>7cdace91c487558e27ce54df7cdb299c</td>\n",
              "        <td>2019-05-01 00:13:11.783000</td>\n",
              "    </tr>\n",
              "    <tr>\n",
              "        <td>94f192dee566b018e0acf31e1f99a2d9</td>\n",
              "        <td>2019-05-01 00:49:46.073000</td>\n",
              "    </tr>\n",
              "    <tr>\n",
              "        <td>7ed2d3454c5eea71148b11d0c25104ff</td>\n",
              "        <td>2019-05-01 10:18:43.210000</td>\n",
              "    </tr>\n",
              "    <tr>\n",
              "        <td>f1daf122cde863010844459363cd31db</td>\n",
              "        <td>2019-05-01 13:10:56.413000</td>\n",
              "    </tr>\n",
              "    <tr>\n",
              "        <td>fd0efcca272f704a760c3b61dcc70fd0</td>\n",
              "        <td>2019-05-01 13:45:19.793000</td>\n",
              "    </tr>\n",
              "    <tr>\n",
              "        <td>8804f94e16ba5b680e239a554a08f7d2</td>\n",
              "        <td>2019-05-01 14:23:07.660000</td>\n",
              "    </tr>\n",
              "    <tr>\n",
              "        <td>c5f441cd5f43eb2f2c024e1f8b5d00cd</td>\n",
              "        <td>2019-05-01 15:03:54.650000</td>\n",
              "    </tr>\n",
              "    <tr>\n",
              "        <td>d5fcc35c94879a4afad61cacca56192c</td>\n",
              "        <td>2019-05-01 15:13:16.140000</td>\n",
              "    </tr>\n",
              "    <tr>\n",
              "        <td>3d191ef6e236bd1b9bdb9ff4743c47fe</td>\n",
              "        <td>2019-05-01 15:33:58.197000</td>\n",
              "    </tr>\n",
              "    <tr>\n",
              "        <td>c17028c9b6e0c5deaad29665d582284a</td>\n",
              "        <td>2019-05-01 15:59:57.490000</td>\n",
              "    </tr>\n",
              "</table>"
            ],
            "text/plain": [
              "[('7cdace91c487558e27ce54df7cdb299c', datetime.datetime(2019, 5, 1, 0, 13, 11, 783000)),\n",
              " ('94f192dee566b018e0acf31e1f99a2d9', datetime.datetime(2019, 5, 1, 0, 49, 46, 73000)),\n",
              " ('7ed2d3454c5eea71148b11d0c25104ff', datetime.datetime(2019, 5, 1, 10, 18, 43, 210000)),\n",
              " ('f1daf122cde863010844459363cd31db', datetime.datetime(2019, 5, 1, 13, 10, 56, 413000)),\n",
              " ('fd0efcca272f704a760c3b61dcc70fd0', datetime.datetime(2019, 5, 1, 13, 45, 19, 793000)),\n",
              " ('8804f94e16ba5b680e239a554a08f7d2', datetime.datetime(2019, 5, 1, 14, 23, 7, 660000)),\n",
              " ('c5f441cd5f43eb2f2c024e1f8b5d00cd', datetime.datetime(2019, 5, 1, 15, 3, 54, 650000)),\n",
              " ('d5fcc35c94879a4afad61cacca56192c', datetime.datetime(2019, 5, 1, 15, 13, 16, 140000)),\n",
              " ('3d191ef6e236bd1b9bdb9ff4743c47fe', datetime.datetime(2019, 5, 1, 15, 33, 58, 197000)),\n",
              " ('c17028c9b6e0c5deaad29665d582284a', datetime.datetime(2019, 5, 1, 15, 59, 57, 490000))]"
            ]
          },
          "metadata": {
            "tags": []
          },
          "execution_count": 46
        }
      ]
    },
    {
      "cell_type": "markdown",
      "metadata": {
        "id": "w5OlIGX8zuQz"
      },
      "source": [
        "Example of Converting a SQL result into Pandas Dataframe"
      ]
    },
    {
      "cell_type": "code",
      "metadata": {
        "id": "2-us2zrscs25",
        "outputId": "18f10118-131a-4a3d-a789-2b8592dc4fa4",
        "colab": {
          "base_uri": "https://localhost:8080/"
        }
      },
      "source": [
        "result = %sql SELECT * FROM raw_data.channel\n",
        "df = result.DataFrame()"
      ],
      "execution_count": null,
      "outputs": [
        {
          "output_type": "stream",
          "text": [
            " * postgresql://...\n",
            "7 rows affected.\n"
          ],
          "name": "stdout"
        }
      ]
    },
    {
      "cell_type": "code",
      "metadata": {
        "id": "7AmUNAj8c3fZ",
        "outputId": "1c74eb6c-b48f-4a83-d999-cd6fe70aa685",
        "colab": {
          "base_uri": "https://localhost:8080/",
          "height": 204
        }
      },
      "source": [
        "df.head()"
      ],
      "execution_count": null,
      "outputs": [
        {
          "output_type": "execute_result",
          "data": {
            "text/html": [
              "<div>\n",
              "<style scoped>\n",
              "    .dataframe tbody tr th:only-of-type {\n",
              "        vertical-align: middle;\n",
              "    }\n",
              "\n",
              "    .dataframe tbody tr th {\n",
              "        vertical-align: top;\n",
              "    }\n",
              "\n",
              "    .dataframe thead th {\n",
              "        text-align: right;\n",
              "    }\n",
              "</style>\n",
              "<table border=\"1\" class=\"dataframe\">\n",
              "  <thead>\n",
              "    <tr style=\"text-align: right;\">\n",
              "      <th></th>\n",
              "      <th>channelname</th>\n",
              "    </tr>\n",
              "  </thead>\n",
              "  <tbody>\n",
              "    <tr>\n",
              "      <th>0</th>\n",
              "      <td>Organic</td>\n",
              "    </tr>\n",
              "    <tr>\n",
              "      <th>1</th>\n",
              "      <td>Google</td>\n",
              "    </tr>\n",
              "    <tr>\n",
              "      <th>2</th>\n",
              "      <td>Naver</td>\n",
              "    </tr>\n",
              "    <tr>\n",
              "      <th>3</th>\n",
              "      <td>Facebook</td>\n",
              "    </tr>\n",
              "    <tr>\n",
              "      <th>4</th>\n",
              "      <td>Youtube</td>\n",
              "    </tr>\n",
              "  </tbody>\n",
              "</table>\n",
              "</div>"
            ],
            "text/plain": [
              "  channelname\n",
              "0     Organic\n",
              "1      Google\n",
              "2       Naver\n",
              "3    Facebook\n",
              "4     Youtube"
            ]
          },
          "metadata": {
            "tags": []
          },
          "execution_count": 5
        }
      ]
    },
    {
      "cell_type": "markdown",
      "metadata": {
        "id": "K3wiIYDJ0EE0"
      },
      "source": [
        "3주차 과정 첫번째 예제"
      ]
    },
    {
      "cell_type": "markdown",
      "metadata": {
        "id": "S6jli7JuNJ5p"
      },
      "source": [
        "##### SQL 연습: Channel 테이블 만들어보기"
      ]
    },
    {
      "cell_type": "code",
      "metadata": {
        "id": "Md6ab1LvkH_e",
        "outputId": "a8b38362-f2a9-41ef-feda-2ef0f4291537",
        "colab": {
          "base_uri": "https://localhost:8080/"
        }
      },
      "source": [
        "%%sql\n",
        "-- SQL 연습: Channel 테이블 만들어보기 - 1\n",
        "CREATE TABLE IF NOT EXISTS seankkang.test_channel (\n",
        "   channel varchar(32) primary key\n",
        ");"
      ],
      "execution_count": null,
      "outputs": [
        {
          "output_type": "stream",
          "text": [
            " * postgresql://...\n",
            "Done.\n"
          ],
          "name": "stdout"
        },
        {
          "output_type": "execute_result",
          "data": {
            "text/plain": [
              "[]"
            ]
          },
          "metadata": {
            "tags": []
          },
          "execution_count": 7
        }
      ]
    },
    {
      "cell_type": "code",
      "metadata": {
        "id": "7OFg8DD_0Wxz",
        "outputId": "15d95ffa-c0fb-4868-ed54-e74438ecc0ec",
        "colab": {
          "base_uri": "https://localhost:8080/"
        }
      },
      "source": [
        "%%sql\n",
        "-- SQL 연습: Channel 테이블 만들어보기 - 2\n",
        "INSERT INTO seankkang.test_channel VALUES ('FACEBOOK'), ('GOOGLE');"
      ],
      "execution_count": null,
      "outputs": [
        {
          "output_type": "stream",
          "text": [
            " * postgresql://...\n",
            "2 rows affected.\n"
          ],
          "name": "stdout"
        },
        {
          "output_type": "execute_result",
          "data": {
            "text/plain": [
              "[]"
            ]
          },
          "metadata": {
            "tags": []
          },
          "execution_count": 8
        }
      ]
    },
    {
      "cell_type": "code",
      "metadata": {
        "id": "DXongPz50f0I",
        "outputId": "e4b61710-360c-4518-e8fa-9c491343525d",
        "colab": {
          "base_uri": "https://localhost:8080/",
          "height": 178
        }
      },
      "source": [
        "%%sql\n",
        "-- SQL 연습: Channel 테이블 만들어보기 - 3\n",
        "SELECT * FROM seankkang.test_channel;"
      ],
      "execution_count": null,
      "outputs": [
        {
          "output_type": "stream",
          "text": [
            " * postgresql://...\n",
            "4 rows affected.\n"
          ],
          "name": "stdout"
        },
        {
          "output_type": "execute_result",
          "data": {
            "text/html": [
              "<table>\n",
              "    <tr>\n",
              "        <th>channel</th>\n",
              "    </tr>\n",
              "    <tr>\n",
              "        <td>FACEBOOK</td>\n",
              "    </tr>\n",
              "    <tr>\n",
              "        <td>GOOGLE</td>\n",
              "    </tr>\n",
              "    <tr>\n",
              "        <td>FACEBOOK</td>\n",
              "    </tr>\n",
              "    <tr>\n",
              "        <td>GOOGLE</td>\n",
              "    </tr>\n",
              "</table>"
            ],
            "text/plain": [
              "[('FACEBOOK',), ('GOOGLE',), ('FACEBOOK',), ('GOOGLE',)]"
            ]
          },
          "metadata": {
            "tags": []
          },
          "execution_count": 9
        }
      ]
    },
    {
      "cell_type": "code",
      "metadata": {
        "id": "WdIU2WEiB5HJ",
        "outputId": "4f01a5ed-95c9-4386-cc03-51dfd315e0cd",
        "colab": {
          "base_uri": "https://localhost:8080/",
          "height": 68
        }
      },
      "source": [
        "%%sql\n",
        "-- SQL 연습: Channel 테이블 만들어보기 - 4\n",
        "CREATE TABLE seankkang.testsummary AS SELECT TO_CHAR(ts, 'YYYY-MM') AS month, COUNT(DISTINCT userid)\n",
        "FROM raw_data.user_session_channel A\n",
        "JOIN raw_data.session_timestamp B ON A.sessionid = B.sessionid\n",
        "GROUP BY 1\n",
        "ORDER BY 1 DESC;"
      ],
      "execution_count": null,
      "outputs": [
        {
          "output_type": "stream",
          "text": [
            " * postgresql://...\n",
            "Done.\n"
          ],
          "name": "stdout"
        },
        {
          "output_type": "execute_result",
          "data": {
            "text/plain": [
              "[]"
            ]
          },
          "metadata": {
            "tags": []
          },
          "execution_count": 10
        }
      ]
    },
    {
      "cell_type": "code",
      "metadata": {
        "id": "atb-c74Rjl3q",
        "outputId": "154acf34-696f-4681-a43b-9e90f3274b2d",
        "colab": {
          "base_uri": "https://localhost:8080/",
          "height": 598
        }
      },
      "source": [
        "%%sql\n",
        "\n",
        "SELECT EXTRACT(HOUR FROM ts) as session, COUNT(1) as cnt\n",
        "FROM raw_data.session_timestamp\n",
        "GROUP BY session\n",
        "ORDER BY cnt DESC;"
      ],
      "execution_count": null,
      "outputs": [
        {
          "output_type": "stream",
          "text": [
            " * postgresql://...\n",
            "24 rows affected.\n"
          ],
          "name": "stdout"
        },
        {
          "output_type": "execute_result",
          "data": {
            "text/html": [
              "<table>\n",
              "    <tr>\n",
              "        <th>session</th>\n",
              "        <th>cnt</th>\n",
              "    </tr>\n",
              "    <tr>\n",
              "        <td>15</td>\n",
              "        <td>15339</td>\n",
              "    </tr>\n",
              "    <tr>\n",
              "        <td>16</td>\n",
              "        <td>14140</td>\n",
              "    </tr>\n",
              "    <tr>\n",
              "        <td>14</td>\n",
              "        <td>13417</td>\n",
              "    </tr>\n",
              "    <tr>\n",
              "        <td>17</td>\n",
              "        <td>10698</td>\n",
              "    </tr>\n",
              "    <tr>\n",
              "        <td>13</td>\n",
              "        <td>9035</td>\n",
              "    </tr>\n",
              "    <tr>\n",
              "        <td>18</td>\n",
              "        <td>7469</td>\n",
              "    </tr>\n",
              "    <tr>\n",
              "        <td>19</td>\n",
              "        <td>5278</td>\n",
              "    </tr>\n",
              "    <tr>\n",
              "        <td>20</td>\n",
              "        <td>3956</td>\n",
              "    </tr>\n",
              "    <tr>\n",
              "        <td>12</td>\n",
              "        <td>3852</td>\n",
              "    </tr>\n",
              "    <tr>\n",
              "        <td>21</td>\n",
              "        <td>3238</td>\n",
              "    </tr>\n",
              "    <tr>\n",
              "        <td>22</td>\n",
              "        <td>2801</td>\n",
              "    </tr>\n",
              "    <tr>\n",
              "        <td>23</td>\n",
              "        <td>2348</td>\n",
              "    </tr>\n",
              "    <tr>\n",
              "        <td>0</td>\n",
              "        <td>1870</td>\n",
              "    </tr>\n",
              "    <tr>\n",
              "        <td>11</td>\n",
              "        <td>1411</td>\n",
              "    </tr>\n",
              "    <tr>\n",
              "        <td>1</td>\n",
              "        <td>1328</td>\n",
              "    </tr>\n",
              "    <tr>\n",
              "        <td>2</td>\n",
              "        <td>1125</td>\n",
              "    </tr>\n",
              "    <tr>\n",
              "        <td>10</td>\n",
              "        <td>870</td>\n",
              "    </tr>\n",
              "    <tr>\n",
              "        <td>3</td>\n",
              "        <td>815</td>\n",
              "    </tr>\n",
              "    <tr>\n",
              "        <td>4</td>\n",
              "        <td>703</td>\n",
              "    </tr>\n",
              "    <tr>\n",
              "        <td>5</td>\n",
              "        <td>611</td>\n",
              "    </tr>\n",
              "    <tr>\n",
              "        <td>6</td>\n",
              "        <td>491</td>\n",
              "    </tr>\n",
              "    <tr>\n",
              "        <td>9</td>\n",
              "        <td>340</td>\n",
              "    </tr>\n",
              "    <tr>\n",
              "        <td>7</td>\n",
              "        <td>236</td>\n",
              "    </tr>\n",
              "    <tr>\n",
              "        <td>8</td>\n",
              "        <td>149</td>\n",
              "    </tr>\n",
              "</table>"
            ],
            "text/plain": [
              "[(15, 15339),\n",
              " (16, 14140),\n",
              " (14, 13417),\n",
              " (17, 10698),\n",
              " (13, 9035),\n",
              " (18, 7469),\n",
              " (19, 5278),\n",
              " (20, 3956),\n",
              " (12, 3852),\n",
              " (21, 3238),\n",
              " (22, 2801),\n",
              " (23, 2348),\n",
              " (0, 1870),\n",
              " (11, 1411),\n",
              " (1, 1328),\n",
              " (2, 1125),\n",
              " (10, 870),\n",
              " (3, 815),\n",
              " (4, 703),\n",
              " (5, 611),\n",
              " (6, 491),\n",
              " (9, 340),\n",
              " (7, 236),\n",
              " (8, 149)]"
            ]
          },
          "metadata": {
            "tags": []
          },
          "execution_count": 10
        }
      ]
    },
    {
      "cell_type": "code",
      "metadata": {
        "id": "Ca9fwm6XmbJt",
        "outputId": "8defbeb9-a98a-416a-8e4d-2a96ef05a327",
        "colab": {
          "base_uri": "https://localhost:8080/",
          "height": 304
        }
      },
      "source": [
        "%%sql\n",
        "\n",
        "SELECT * FROM raw_data.session_transaction LIMIT 10;"
      ],
      "execution_count": null,
      "outputs": [
        {
          "output_type": "stream",
          "text": [
            " * postgresql://...\n",
            "10 rows affected.\n"
          ],
          "name": "stdout"
        },
        {
          "output_type": "execute_result",
          "data": {
            "text/html": [
              "<table>\n",
              "    <tr>\n",
              "        <th>sessionid</th>\n",
              "        <th>refunded</th>\n",
              "        <th>amount</th>\n",
              "    </tr>\n",
              "    <tr>\n",
              "        <td>00029153d12ae1c9abe59c17ff2e0895</td>\n",
              "        <td>False</td>\n",
              "        <td>85</td>\n",
              "    </tr>\n",
              "    <tr>\n",
              "        <td>008909bd27b680698322c750c400e4b1</td>\n",
              "        <td>False</td>\n",
              "        <td>13</td>\n",
              "    </tr>\n",
              "    <tr>\n",
              "        <td>0107acb41ef20db2289d261d4e34fd38</td>\n",
              "        <td>False</td>\n",
              "        <td>16</td>\n",
              "    </tr>\n",
              "    <tr>\n",
              "        <td>018544a2c48077d2cc3ce3278ab1e805</td>\n",
              "        <td>False</td>\n",
              "        <td>39</td>\n",
              "    </tr>\n",
              "    <tr>\n",
              "        <td>020c38173caff02033564200e0288aa9</td>\n",
              "        <td>False</td>\n",
              "        <td>61</td>\n",
              "    </tr>\n",
              "    <tr>\n",
              "        <td>029591145fad252b28d844d823097400</td>\n",
              "        <td>False</td>\n",
              "        <td>13</td>\n",
              "    </tr>\n",
              "    <tr>\n",
              "        <td>03190309cbcd7161a426abd4782bdcd2</td>\n",
              "        <td>False</td>\n",
              "        <td>75</td>\n",
              "    </tr>\n",
              "    <tr>\n",
              "        <td>03a13aa6921aed989b31d92dc73b391a</td>\n",
              "        <td>False</td>\n",
              "        <td>129</td>\n",
              "    </tr>\n",
              "    <tr>\n",
              "        <td>04215c1ad3aaff3ed175446d2ea3c0f2</td>\n",
              "        <td>False</td>\n",
              "        <td>99</td>\n",
              "    </tr>\n",
              "    <tr>\n",
              "        <td>049b8c570e6cc662b4a3d7e3c86e236f</td>\n",
              "        <td>False</td>\n",
              "        <td>24</td>\n",
              "    </tr>\n",
              "</table>"
            ],
            "text/plain": [
              "[('00029153d12ae1c9abe59c17ff2e0895', False, 85),\n",
              " ('008909bd27b680698322c750c400e4b1', False, 13),\n",
              " ('0107acb41ef20db2289d261d4e34fd38', False, 16),\n",
              " ('018544a2c48077d2cc3ce3278ab1e805', False, 39),\n",
              " ('020c38173caff02033564200e0288aa9', False, 61),\n",
              " ('029591145fad252b28d844d823097400', False, 13),\n",
              " ('03190309cbcd7161a426abd4782bdcd2', False, 75),\n",
              " ('03a13aa6921aed989b31d92dc73b391a', False, 129),\n",
              " ('04215c1ad3aaff3ed175446d2ea3c0f2', False, 99),\n",
              " ('049b8c570e6cc662b4a3d7e3c86e236f', False, 24)]"
            ]
          },
          "metadata": {
            "tags": []
          },
          "execution_count": 11
        }
      ]
    },
    {
      "cell_type": "code",
      "metadata": {
        "id": "VWmCIlcNCma8",
        "outputId": "7585ef5b-fc6b-43b5-9b49-578dad2b9913",
        "colab": {
          "base_uri": "https://localhost:8080/",
          "height": 241
        }
      },
      "source": [
        "%%sql\n",
        "\n",
        "SELECT * FROM seankkang.testsummary;"
      ],
      "execution_count": null,
      "outputs": [
        {
          "output_type": "stream",
          "text": [
            " * postgresql://...\n",
            "7 rows affected.\n"
          ],
          "name": "stdout"
        },
        {
          "output_type": "execute_result",
          "data": {
            "text/html": [
              "<table>\n",
              "    <tr>\n",
              "        <th>month</th>\n",
              "        <th>count</th>\n",
              "    </tr>\n",
              "    <tr>\n",
              "        <td>2019-10</td>\n",
              "        <td>763</td>\n",
              "    </tr>\n",
              "    <tr>\n",
              "        <td>2019-09</td>\n",
              "        <td>639</td>\n",
              "    </tr>\n",
              "    <tr>\n",
              "        <td>2019-07</td>\n",
              "        <td>623</td>\n",
              "    </tr>\n",
              "    <tr>\n",
              "        <td>2019-06</td>\n",
              "        <td>459</td>\n",
              "    </tr>\n",
              "    <tr>\n",
              "        <td>2019-05</td>\n",
              "        <td>281</td>\n",
              "    </tr>\n",
              "    <tr>\n",
              "        <td>2019-11</td>\n",
              "        <td>721</td>\n",
              "    </tr>\n",
              "    <tr>\n",
              "        <td>2019-08</td>\n",
              "        <td>662</td>\n",
              "    </tr>\n",
              "</table>"
            ],
            "text/plain": [
              "[('2019-10', 763),\n",
              " ('2019-09', 639),\n",
              " ('2019-07', 623),\n",
              " ('2019-06', 459),\n",
              " ('2019-05', 281),\n",
              " ('2019-11', 721),\n",
              " ('2019-08', 662)]"
            ]
          },
          "metadata": {
            "tags": []
          },
          "execution_count": 12
        }
      ]
    },
    {
      "cell_type": "markdown",
      "metadata": {
        "id": "EKAFQZNpNVEB"
      },
      "source": [
        "#### SQL 연습: IN & LIKE/ILIKE"
      ]
    },
    {
      "cell_type": "code",
      "metadata": {
        "id": "HdrLs9dEaWdq",
        "outputId": "d34a3e2b-920c-44de-db70-d0c198cb5a1e",
        "colab": {
          "base_uri": "https://localhost:8080/",
          "height": 115
        }
      },
      "source": [
        "%%sql\n",
        "-- SQL 연습: IN & LIKE/ILIKE - 1\n",
        "SELECT COUNT(1)\n",
        "FROM raw_data.user_session_channel\n",
        "WHERE channel IN ('Google', 'Facebook');"
      ],
      "execution_count": null,
      "outputs": [
        {
          "output_type": "stream",
          "text": [
            " * postgresql://...\n",
            "1 rows affected.\n"
          ],
          "name": "stdout"
        },
        {
          "output_type": "execute_result",
          "data": {
            "text/html": [
              "<table>\n",
              "    <tr>\n",
              "        <th>count</th>\n",
              "    </tr>\n",
              "    <tr>\n",
              "        <td>33773</td>\n",
              "    </tr>\n",
              "</table>"
            ],
            "text/plain": [
              "[(33773,)]"
            ]
          },
          "metadata": {
            "tags": []
          },
          "execution_count": 16
        }
      ]
    },
    {
      "cell_type": "code",
      "metadata": {
        "id": "Ib3oy7AlNZuY",
        "outputId": "be0f305c-412f-44ee-b111-53834d3d69e8",
        "colab": {
          "base_uri": "https://localhost:8080/",
          "height": 115
        }
      },
      "source": [
        "%%sql\n",
        "-- SQL 연습: IN & LIKE/ILIKE - 2\n",
        "SELECT COUNT(1)\n",
        "FROM raw_data.user_session_channel\n",
        "WHERE channel ILIKE 'google' or channel ILIKE 'facebook';"
      ],
      "execution_count": null,
      "outputs": [
        {
          "output_type": "stream",
          "text": [
            " * postgresql://...\n",
            "1 rows affected.\n"
          ],
          "name": "stdout"
        },
        {
          "output_type": "execute_result",
          "data": {
            "text/html": [
              "<table>\n",
              "    <tr>\n",
              "        <th>count</th>\n",
              "    </tr>\n",
              "    <tr>\n",
              "        <td>33773</td>\n",
              "    </tr>\n",
              "</table>"
            ],
            "text/plain": [
              "[(33773,)]"
            ]
          },
          "metadata": {
            "tags": []
          },
          "execution_count": 18
        }
      ]
    },
    {
      "cell_type": "code",
      "metadata": {
        "id": "FLixsJ6ANyFP",
        "outputId": "ed960781-77cd-4fcd-9618-27a91ec19623",
        "colab": {
          "base_uri": "https://localhost:8080/",
          "height": 178
        }
      },
      "source": [
        "%%sql\n",
        "-- SQL 연습: IN & LIKE/ILIKE - 3\n",
        "SELECT DISTINCT channel\n",
        "FROM raw_data.user_session_channel\n",
        "WHERE channel ILIKE '%o%'"
      ],
      "execution_count": null,
      "outputs": [
        {
          "output_type": "stream",
          "text": [
            " * postgresql://...\n",
            "4 rows affected.\n"
          ],
          "name": "stdout"
        },
        {
          "output_type": "execute_result",
          "data": {
            "text/html": [
              "<table>\n",
              "    <tr>\n",
              "        <th>channel</th>\n",
              "    </tr>\n",
              "    <tr>\n",
              "        <td>Facebook</td>\n",
              "    </tr>\n",
              "    <tr>\n",
              "        <td>Youtube</td>\n",
              "    </tr>\n",
              "    <tr>\n",
              "        <td>Organic</td>\n",
              "    </tr>\n",
              "    <tr>\n",
              "        <td>Google</td>\n",
              "    </tr>\n",
              "</table>"
            ],
            "text/plain": [
              "[('Facebook',), ('Youtube',), ('Organic',), ('Google',)]"
            ]
          },
          "metadata": {
            "tags": []
          },
          "execution_count": 19
        }
      ]
    },
    {
      "cell_type": "code",
      "metadata": {
        "id": "AEwWQKv5N8kk",
        "outputId": "ef2de2a9-bcbb-4cbb-ed3d-8dd9d7589ad5",
        "colab": {
          "base_uri": "https://localhost:8080/",
          "height": 136
        }
      },
      "source": [
        "%%sql\n",
        "-- SQL 연습: IN & LIKE/ILIKE - 3\n",
        "SELECT DISTINCT channel\n",
        "FROM raw_data.user_session_channel\n",
        "WHERE channel NOT ILIKE '%o%'"
      ],
      "execution_count": null,
      "outputs": [
        {
          "output_type": "stream",
          "text": [
            " * postgresql://...\n",
            "2 rows affected.\n"
          ],
          "name": "stdout"
        },
        {
          "output_type": "execute_result",
          "data": {
            "text/html": [
              "<table>\n",
              "    <tr>\n",
              "        <th>channel</th>\n",
              "    </tr>\n",
              "    <tr>\n",
              "        <td>Naver</td>\n",
              "    </tr>\n",
              "    <tr>\n",
              "        <td>Instagram</td>\n",
              "    </tr>\n",
              "</table>"
            ],
            "text/plain": [
              "[('Naver',), ('Instagram',)]"
            ]
          },
          "metadata": {
            "tags": []
          },
          "execution_count": 20
        }
      ]
    },
    {
      "cell_type": "markdown",
      "metadata": {
        "id": "xKGpmndMOPOp"
      },
      "source": [
        "####  SQL 연습: STRING Functions"
      ]
    },
    {
      "cell_type": "code",
      "metadata": {
        "id": "w7Ipyb2MOOX5",
        "outputId": "8789516e-d385-4dc1-e873-e16b47c2b9e5",
        "colab": {
          "base_uri": "https://localhost:8080/",
          "height": 178
        }
      },
      "source": [
        "%%sql\n",
        "-- SQL 연습: STRING Functions\n",
        "SELECT \n",
        "  LEN(channel),\n",
        "  UPPER(channel),\n",
        "  LOWER(channel),\n",
        "  LEFT(channel, 4)\n",
        "FROM seankkang.test_channel"
      ],
      "execution_count": null,
      "outputs": [
        {
          "output_type": "stream",
          "text": [
            " * postgresql://...\n",
            "4 rows affected.\n"
          ],
          "name": "stdout"
        },
        {
          "output_type": "execute_result",
          "data": {
            "text/html": [
              "<table>\n",
              "    <tr>\n",
              "        <th>len</th>\n",
              "        <th>upper</th>\n",
              "        <th>lower</th>\n",
              "        <th>left</th>\n",
              "    </tr>\n",
              "    <tr>\n",
              "        <td>8</td>\n",
              "        <td>FACEBOOK</td>\n",
              "        <td>facebook</td>\n",
              "        <td>FACE</td>\n",
              "    </tr>\n",
              "    <tr>\n",
              "        <td>6</td>\n",
              "        <td>GOOGLE</td>\n",
              "        <td>google</td>\n",
              "        <td>GOOG</td>\n",
              "    </tr>\n",
              "    <tr>\n",
              "        <td>8</td>\n",
              "        <td>FACEBOOK</td>\n",
              "        <td>facebook</td>\n",
              "        <td>FACE</td>\n",
              "    </tr>\n",
              "    <tr>\n",
              "        <td>6</td>\n",
              "        <td>GOOGLE</td>\n",
              "        <td>google</td>\n",
              "        <td>GOOG</td>\n",
              "    </tr>\n",
              "</table>"
            ],
            "text/plain": [
              "[(8, 'FACEBOOK', 'facebook', 'FACE'),\n",
              " (6, 'GOOGLE', 'google', 'GOOG'),\n",
              " (8, 'FACEBOOK', 'facebook', 'FACE'),\n",
              " (6, 'GOOGLE', 'google', 'GOOG')]"
            ]
          },
          "metadata": {
            "tags": []
          },
          "execution_count": 25
        }
      ]
    },
    {
      "cell_type": "markdown",
      "metadata": {
        "id": "Sp__2R0RO3D9"
      },
      "source": [
        "#### SQL 연습: session이 가장 많이 생성되는 시간대?"
      ]
    },
    {
      "cell_type": "code",
      "metadata": {
        "id": "u0MpDJS6OTuB",
        "outputId": "4cc33431-d782-46d9-85d0-80eb2faffd12",
        "colab": {
          "base_uri": "https://localhost:8080/",
          "height": 304
        }
      },
      "source": [
        "%%sql\n",
        "\n",
        "SELECT EXTRACT(HOUR FROM ts) AS \"hour\", COUNT(1) AS \"count\"\n",
        "FROM raw_data.session_timestamp\n",
        "GROUP BY 1\n",
        "ORDER BY 2 DESC\n",
        "LIMIT 10"
      ],
      "execution_count": null,
      "outputs": [
        {
          "output_type": "stream",
          "text": [
            " * postgresql://...\n",
            "10 rows affected.\n"
          ],
          "name": "stdout"
        },
        {
          "output_type": "execute_result",
          "data": {
            "text/html": [
              "<table>\n",
              "    <tr>\n",
              "        <th>hour</th>\n",
              "        <th>count</th>\n",
              "    </tr>\n",
              "    <tr>\n",
              "        <td>15</td>\n",
              "        <td>15339</td>\n",
              "    </tr>\n",
              "    <tr>\n",
              "        <td>16</td>\n",
              "        <td>14140</td>\n",
              "    </tr>\n",
              "    <tr>\n",
              "        <td>14</td>\n",
              "        <td>13417</td>\n",
              "    </tr>\n",
              "    <tr>\n",
              "        <td>17</td>\n",
              "        <td>10698</td>\n",
              "    </tr>\n",
              "    <tr>\n",
              "        <td>13</td>\n",
              "        <td>9035</td>\n",
              "    </tr>\n",
              "    <tr>\n",
              "        <td>18</td>\n",
              "        <td>7469</td>\n",
              "    </tr>\n",
              "    <tr>\n",
              "        <td>19</td>\n",
              "        <td>5278</td>\n",
              "    </tr>\n",
              "    <tr>\n",
              "        <td>20</td>\n",
              "        <td>3956</td>\n",
              "    </tr>\n",
              "    <tr>\n",
              "        <td>12</td>\n",
              "        <td>3852</td>\n",
              "    </tr>\n",
              "    <tr>\n",
              "        <td>21</td>\n",
              "        <td>3238</td>\n",
              "    </tr>\n",
              "</table>"
            ],
            "text/plain": [
              "[(15, 15339),\n",
              " (16, 14140),\n",
              " (14, 13417),\n",
              " (17, 10698),\n",
              " (13, 9035),\n",
              " (18, 7469),\n",
              " (19, 5278),\n",
              " (20, 3956),\n",
              " (12, 3852),\n",
              " (21, 3238)]"
            ]
          },
          "metadata": {
            "tags": []
          },
          "execution_count": 57
        }
      ]
    },
    {
      "cell_type": "markdown",
      "metadata": {
        "id": "EzqDDD2rP2KS"
      },
      "source": [
        "####  SQL 연습: raw_data.channel의 채널별 사용자수 세기\n",
        "\n",
        "\n",
        "| Table | Fields |\n",
        "|---|---|\n",
        "| session_timestamp | sessionid (string), ts (timestamp) |\n",
        "| user_session_channel | userid (integer), sessionid (string), channel (string) |\n",
        "| session_transaction | sessionid (string), refunded (boolean), amount (integer) |\n",
        "| channel | channelname (string) |"
      ]
    },
    {
      "cell_type": "code",
      "metadata": {
        "id": "en4A-t0hO_XY",
        "outputId": "a37c295f-d3f2-48ca-92c3-f3695d7de9d7",
        "colab": {
          "base_uri": "https://localhost:8080/",
          "height": 241
        }
      },
      "source": [
        "%%sql\n",
        "\n",
        "SELECT channel.channelname AS \"channel\", COUNT(1) AS \"count\"\n",
        "FROM raw_data.channel AS channel\n",
        "LEFT JOIN raw_data.user_session_channel AS session\n",
        "ON channel.channelname = session.channel\n",
        "GROUP BY 1\n",
        "ORDER BY 2 DESC"
      ],
      "execution_count": null,
      "outputs": [
        {
          "output_type": "stream",
          "text": [
            " * postgresql://...\n",
            "7 rows affected.\n"
          ],
          "name": "stdout"
        },
        {
          "output_type": "execute_result",
          "data": {
            "text/html": [
              "<table>\n",
              "    <tr>\n",
              "        <th>channel</th>\n",
              "        <th>count</th>\n",
              "    </tr>\n",
              "    <tr>\n",
              "        <td>Youtube</td>\n",
              "        <td>17091</td>\n",
              "    </tr>\n",
              "    <tr>\n",
              "        <td>Google</td>\n",
              "        <td>16982</td>\n",
              "    </tr>\n",
              "    <tr>\n",
              "        <td>Naver</td>\n",
              "        <td>16921</td>\n",
              "    </tr>\n",
              "    <tr>\n",
              "        <td>Organic</td>\n",
              "        <td>16904</td>\n",
              "    </tr>\n",
              "    <tr>\n",
              "        <td>Instagram</td>\n",
              "        <td>16831</td>\n",
              "    </tr>\n",
              "    <tr>\n",
              "        <td>Facebook</td>\n",
              "        <td>16791</td>\n",
              "    </tr>\n",
              "    <tr>\n",
              "        <td>TIKTOK</td>\n",
              "        <td>1</td>\n",
              "    </tr>\n",
              "</table>"
            ],
            "text/plain": [
              "[('Youtube', 17091),\n",
              " ('Google', 16982),\n",
              " ('Naver', 16921),\n",
              " ('Organic', 16904),\n",
              " ('Instagram', 16831),\n",
              " ('Facebook', 16791),\n",
              " ('TIKTOK', 1)]"
            ]
          },
          "metadata": {
            "tags": []
          },
          "execution_count": 58
        }
      ]
    },
    {
      "cell_type": "markdown",
      "metadata": {
        "id": "Zz4Rw96aTmYn"
      },
      "source": [
        "#### SQL 연습: 사용자별로 처음 채널과 마지막 채널 알아내기"
      ]
    },
    {
      "cell_type": "code",
      "metadata": {
        "id": "5V5U0JwCSuGj",
        "outputId": "1542be96-2c30-4726-a5fb-e8ba4df38913",
        "colab": {
          "base_uri": "https://localhost:8080/",
          "height": 115
        }
      },
      "source": [
        "%%sql\n",
        "-- 사용자 251번의 시간순으로 봤을 때 첫 번째 채널과 마지막 채널은 무엇인가? \n",
        "-- 일단 노가다로\n",
        "\n",
        "SELECT st.ts, usc.channel \n",
        "FROM raw_data.user_session_channel AS usc\n",
        "JOIN raw_data.session_timestamp AS st\n",
        "ON usc.sessionid = st.sessionid\n",
        "WHERE usc.userid = 251\n",
        "ORDER BY 1\n",
        "LIMIT 1"
      ],
      "execution_count": 118,
      "outputs": [
        {
          "output_type": "stream",
          "text": [
            " * postgresql://...\n",
            "1 rows affected.\n"
          ],
          "name": "stdout"
        },
        {
          "output_type": "execute_result",
          "data": {
            "text/html": [
              "<table>\n",
              "    <tr>\n",
              "        <th>ts</th>\n",
              "        <th>channel</th>\n",
              "    </tr>\n",
              "    <tr>\n",
              "        <td>2019-11-26 16:54:19</td>\n",
              "        <td>Google</td>\n",
              "    </tr>\n",
              "</table>"
            ],
            "text/plain": [
              "[(datetime.datetime(2019, 11, 26, 16, 54, 19), 'Google')]"
            ]
          },
          "metadata": {
            "tags": []
          },
          "execution_count": 118
        }
      ]
    },
    {
      "cell_type": "code",
      "metadata": {
        "id": "lXHPQWkkUZ0l",
        "outputId": "8f01b27a-0e1d-45b1-9d7f-089d5888ac2e",
        "colab": {
          "base_uri": "https://localhost:8080/",
          "height": 304
        }
      },
      "source": [
        "%%sql\n",
        "-- ROW_NUMBER 이용해서 해보자\n",
        "\n",
        "SELECT \n",
        "  DISTINCT usc.userid, \n",
        "  FIRST_VALUE(usc.channel) OVER(PARTITION BY usc.userid ORDER BY st.ts ROWS BETWEEN UNBOUNDED PRECEDING AND UNBOUNDED FOLLOWING),\n",
        "  LAST_VALUE(usc.channel) OVER(PARTITION BY usc.userid ORDER BY st.ts ROWS BETWEEN UNBOUNDED PRECEDING AND UNBOUNDED FOLLOWING)  \n",
        "FROM raw_data.user_session_channel AS usc\n",
        "JOIN raw_data.session_timestamp AS st \n",
        "ON usc.sessionid = st.sessionid\n",
        "-- WHERE usc.userid = 251\n",
        "ORDER BY 1\n",
        "LIMIT 10"
      ],
      "execution_count": 164,
      "outputs": [
        {
          "output_type": "stream",
          "text": [
            " * postgresql://...\n",
            "10 rows affected.\n"
          ],
          "name": "stdout"
        },
        {
          "output_type": "execute_result",
          "data": {
            "text/html": [
              "<table>\n",
              "    <tr>\n",
              "        <th>userid</th>\n",
              "        <th>first_value</th>\n",
              "        <th>last_value</th>\n",
              "    </tr>\n",
              "    <tr>\n",
              "        <td>27</td>\n",
              "        <td>Youtube</td>\n",
              "        <td>Instagram</td>\n",
              "    </tr>\n",
              "    <tr>\n",
              "        <td>29</td>\n",
              "        <td>Naver</td>\n",
              "        <td>Naver</td>\n",
              "    </tr>\n",
              "    <tr>\n",
              "        <td>33</td>\n",
              "        <td>Google</td>\n",
              "        <td>Youtube</td>\n",
              "    </tr>\n",
              "    <tr>\n",
              "        <td>34</td>\n",
              "        <td>Youtube</td>\n",
              "        <td>Naver</td>\n",
              "    </tr>\n",
              "    <tr>\n",
              "        <td>36</td>\n",
              "        <td>Naver</td>\n",
              "        <td>Youtube</td>\n",
              "    </tr>\n",
              "    <tr>\n",
              "        <td>40</td>\n",
              "        <td>Youtube</td>\n",
              "        <td>Google</td>\n",
              "    </tr>\n",
              "    <tr>\n",
              "        <td>41</td>\n",
              "        <td>Facebook</td>\n",
              "        <td>Youtube</td>\n",
              "    </tr>\n",
              "    <tr>\n",
              "        <td>44</td>\n",
              "        <td>Naver</td>\n",
              "        <td>Instagram</td>\n",
              "    </tr>\n",
              "    <tr>\n",
              "        <td>45</td>\n",
              "        <td>Youtube</td>\n",
              "        <td>Instagram</td>\n",
              "    </tr>\n",
              "    <tr>\n",
              "        <td>59</td>\n",
              "        <td>Instagram</td>\n",
              "        <td>Instagram</td>\n",
              "    </tr>\n",
              "</table>"
            ],
            "text/plain": [
              "[(27, 'Youtube', 'Instagram'),\n",
              " (29, 'Naver', 'Naver'),\n",
              " (33, 'Google', 'Youtube'),\n",
              " (34, 'Youtube', 'Naver'),\n",
              " (36, 'Naver', 'Youtube'),\n",
              " (40, 'Youtube', 'Google'),\n",
              " (41, 'Facebook', 'Youtube'),\n",
              " (44, 'Naver', 'Instagram'),\n",
              " (45, 'Youtube', 'Instagram'),\n",
              " (59, 'Instagram', 'Instagram')]"
            ]
          },
          "metadata": {
            "tags": []
          },
          "execution_count": 164
        }
      ]
    },
    {
      "cell_type": "markdown",
      "metadata": {
        "id": "AacaVgvthQCh"
      },
      "source": [
        "---"
      ]
    },
    {
      "cell_type": "markdown",
      "metadata": {
        "id": "8c3IE5iVf_9j"
      },
      "source": [
        "##  Assignment - 2\n",
        "#### Gross Revenue가 가장 큰 UserID 10개 찾기\n",
        "- Gross revenue: Refund 포함한 매출\n",
        "- 반드시 SQL로 해보기\n",
        " \n",
        "---\n",
        "\n",
        " | Table | Fields |\n",
        "|---|---|\n",
        "| session_timestamp | sessionid (string), ts (timestamp) |\n",
        "| user_session_channel | userid (integer), sessionid (string), channel (string) |\n",
        "| session_transaction | sessionid (string), refunded (boolean), amount (integer) |\n",
        "| channel | channelname (string) |"
      ]
    },
    {
      "cell_type": "code",
      "metadata": {
        "id": "wkqhIrkqV-nn",
        "outputId": "b5a166da-7131-43c5-f6c0-ca1646a40cf3",
        "colab": {
          "base_uri": "https://localhost:8080/",
          "height": 304
        }
      },
      "source": [
        "%%sql\n",
        "\n",
        "SELECT usc.userid, SUM(t.amount) gross_revenue\n",
        "FROM raw_data.user_session_channel usc\n",
        "JOIN raw_data.session_transaction t\n",
        "ON usc.sessionid = t.sessionid\n",
        "GROUP BY 1\n",
        "ORDER BY 2 DESC\n",
        "LIMIT 10"
      ],
      "execution_count": 123,
      "outputs": [
        {
          "output_type": "stream",
          "text": [
            " * postgresql://...\n",
            "10 rows affected.\n"
          ],
          "name": "stdout"
        },
        {
          "output_type": "execute_result",
          "data": {
            "text/html": [
              "<table>\n",
              "    <tr>\n",
              "        <th>userid</th>\n",
              "        <th>gross_revenue</th>\n",
              "    </tr>\n",
              "    <tr>\n",
              "        <td>989</td>\n",
              "        <td>743</td>\n",
              "    </tr>\n",
              "    <tr>\n",
              "        <td>772</td>\n",
              "        <td>556</td>\n",
              "    </tr>\n",
              "    <tr>\n",
              "        <td>1615</td>\n",
              "        <td>506</td>\n",
              "    </tr>\n",
              "    <tr>\n",
              "        <td>654</td>\n",
              "        <td>488</td>\n",
              "    </tr>\n",
              "    <tr>\n",
              "        <td>1651</td>\n",
              "        <td>463</td>\n",
              "    </tr>\n",
              "    <tr>\n",
              "        <td>973</td>\n",
              "        <td>438</td>\n",
              "    </tr>\n",
              "    <tr>\n",
              "        <td>262</td>\n",
              "        <td>422</td>\n",
              "    </tr>\n",
              "    <tr>\n",
              "        <td>1099</td>\n",
              "        <td>421</td>\n",
              "    </tr>\n",
              "    <tr>\n",
              "        <td>2682</td>\n",
              "        <td>414</td>\n",
              "    </tr>\n",
              "    <tr>\n",
              "        <td>891</td>\n",
              "        <td>412</td>\n",
              "    </tr>\n",
              "</table>"
            ],
            "text/plain": [
              "[(989, 743),\n",
              " (772, 556),\n",
              " (1615, 506),\n",
              " (654, 488),\n",
              " (1651, 463),\n",
              " (973, 438),\n",
              " (262, 422),\n",
              " (1099, 421),\n",
              " (2682, 414),\n",
              " (891, 412)]"
            ]
          },
          "metadata": {
            "tags": []
          },
          "execution_count": 123
        }
      ]
    },
    {
      "cell_type": "markdown",
      "metadata": {
        "id": "5rjbY5hVhRo5"
      },
      "source": [
        "---"
      ]
    },
    {
      "cell_type": "markdown",
      "metadata": {
        "id": "pnZ4hCJ2hJJz"
      },
      "source": [
        "## Assignment -3\n",
        "\n",
        "#### 채널별 월 매출액 테이블 만들기 (본인 스키마 밑에 CTAS로 테이블로 만들기)\n",
        "1. session_timestamp, user_session_channel, channel, session_transaction\n",
        "테이블들을 사용\n",
        "2. channel에 있는 모든 채널에 대해 구성해야함 (값이 없는 경우라도)\n",
        "3. 아래와 같은 필드로 구성\n",
        "  -  month\n",
        "  - channel\n",
        "  - uniqueUsers (총방문 사용자)\n",
        "  - paidUsers (구매 사용자: refund한 경우도 판매로 고려)\n",
        "  - conversionRate (구매사용자 / 총방문 사용자)\n",
        "  - grossRevenue (refund 포함)\n",
        "  - netRevenue (refund 제외)"
      ]
    },
    {
      "cell_type": "code",
      "metadata": {
        "id": "avYHg76tgVMA",
        "outputId": "a8a03d08-2dc2-4c08-b91a-4cba3741caa4",
        "colab": {
          "base_uri": "https://localhost:8080/",
          "height": 976
        }
      },
      "source": [
        "%%sql\n",
        "\n",
        "SELECT \n",
        "  TO_CHAR(time.ts, 'YYYY-MM') \"month\", \n",
        "  c.channelname channel, \n",
        "  COUNT(DISTINCT usc.userid) uniqueUsers,\n",
        "  COUNT(DISTINCT CASE WHEN tran.sessionid IS NOT NULL THEN usc.userid END) paidUsers,\n",
        "  CAST((paidUsers * 100 / uniqueUsers) AS FLOAT) AS conversionRate,\n",
        "  SUM(tran.amount) grossRevenue,\n",
        "  SUM(CASE WHEN tran.refunded = false THEN tran.amount END) netRevenue\n",
        "FROM raw_data.channel c\n",
        "LEFT JOIN raw_data.user_session_channel usc ON usc.channel = c.channelname\n",
        "JOIN raw_data.session_timestamp time ON usc.sessionid = time.sessionid\n",
        "LEFT JOIN raw_data.session_transaction tran ON usc.sessionid = tran.sessionid\n",
        "GROUP BY 1, 2\n",
        "ORDER BY 1, 2\n",
        "-- LIMIT 10"
      ],
      "execution_count": 163,
      "outputs": [
        {
          "output_type": "stream",
          "text": [
            " * postgresql://...\n",
            "42 rows affected.\n"
          ],
          "name": "stdout"
        },
        {
          "output_type": "execute_result",
          "data": {
            "text/html": [
              "<table>\n",
              "    <tr>\n",
              "        <th>month</th>\n",
              "        <th>channel</th>\n",
              "        <th>uniqueusers</th>\n",
              "        <th>paidusers</th>\n",
              "        <th>conversionrate</th>\n",
              "        <th>grossrevenue</th>\n",
              "        <th>netrevenue</th>\n",
              "    </tr>\n",
              "    <tr>\n",
              "        <td>2019-05</td>\n",
              "        <td>Facebook</td>\n",
              "        <td>247</td>\n",
              "        <td>14</td>\n",
              "        <td>5.0</td>\n",
              "        <td>1199</td>\n",
              "        <td>997</td>\n",
              "    </tr>\n",
              "    <tr>\n",
              "        <td>2019-05</td>\n",
              "        <td>Google</td>\n",
              "        <td>253</td>\n",
              "        <td>10</td>\n",
              "        <td>3.0</td>\n",
              "        <td>580</td>\n",
              "        <td>580</td>\n",
              "    </tr>\n",
              "    <tr>\n",
              "        <td>2019-05</td>\n",
              "        <td>Instagram</td>\n",
              "        <td>234</td>\n",
              "        <td>11</td>\n",
              "        <td>4.0</td>\n",
              "        <td>959</td>\n",
              "        <td>770</td>\n",
              "    </tr>\n",
              "    <tr>\n",
              "        <td>2019-05</td>\n",
              "        <td>Naver</td>\n",
              "        <td>237</td>\n",
              "        <td>11</td>\n",
              "        <td>4.0</td>\n",
              "        <td>867</td>\n",
              "        <td>844</td>\n",
              "    </tr>\n",
              "    <tr>\n",
              "        <td>2019-05</td>\n",
              "        <td>Organic</td>\n",
              "        <td>238</td>\n",
              "        <td>17</td>\n",
              "        <td>7.0</td>\n",
              "        <td>1846</td>\n",
              "        <td>1571</td>\n",
              "    </tr>\n",
              "    <tr>\n",
              "        <td>2019-05</td>\n",
              "        <td>Youtube</td>\n",
              "        <td>244</td>\n",
              "        <td>10</td>\n",
              "        <td>4.0</td>\n",
              "        <td>529</td>\n",
              "        <td>529</td>\n",
              "    </tr>\n",
              "    <tr>\n",
              "        <td>2019-06</td>\n",
              "        <td>Facebook</td>\n",
              "        <td>414</td>\n",
              "        <td>22</td>\n",
              "        <td>5.0</td>\n",
              "        <td>1578</td>\n",
              "        <td>1578</td>\n",
              "    </tr>\n",
              "    <tr>\n",
              "        <td>2019-06</td>\n",
              "        <td>Google</td>\n",
              "        <td>412</td>\n",
              "        <td>13</td>\n",
              "        <td>3.0</td>\n",
              "        <td>947</td>\n",
              "        <td>947</td>\n",
              "    </tr>\n",
              "    <tr>\n",
              "        <td>2019-06</td>\n",
              "        <td>Instagram</td>\n",
              "        <td>410</td>\n",
              "        <td>21</td>\n",
              "        <td>5.0</td>\n",
              "        <td>1462</td>\n",
              "        <td>1418</td>\n",
              "    </tr>\n",
              "    <tr>\n",
              "        <td>2019-06</td>\n",
              "        <td>Naver</td>\n",
              "        <td>398</td>\n",
              "        <td>15</td>\n",
              "        <td>3.0</td>\n",
              "        <td>1090</td>\n",
              "        <td>1090</td>\n",
              "    </tr>\n",
              "    <tr>\n",
              "        <td>2019-06</td>\n",
              "        <td>Organic</td>\n",
              "        <td>416</td>\n",
              "        <td>14</td>\n",
              "        <td>3.0</td>\n",
              "        <td>1129</td>\n",
              "        <td>940</td>\n",
              "    </tr>\n",
              "    <tr>\n",
              "        <td>2019-06</td>\n",
              "        <td>Youtube</td>\n",
              "        <td>400</td>\n",
              "        <td>17</td>\n",
              "        <td>4.0</td>\n",
              "        <td>1042</td>\n",
              "        <td>1042</td>\n",
              "    </tr>\n",
              "    <tr>\n",
              "        <td>2019-07</td>\n",
              "        <td>Facebook</td>\n",
              "        <td>558</td>\n",
              "        <td>32</td>\n",
              "        <td>5.0</td>\n",
              "        <td>2222</td>\n",
              "        <td>2144</td>\n",
              "    </tr>\n",
              "    <tr>\n",
              "        <td>2019-07</td>\n",
              "        <td>Google</td>\n",
              "        <td>556</td>\n",
              "        <td>21</td>\n",
              "        <td>3.0</td>\n",
              "        <td>1558</td>\n",
              "        <td>1385</td>\n",
              "    </tr>\n",
              "    <tr>\n",
              "        <td>2019-07</td>\n",
              "        <td>Instagram</td>\n",
              "        <td>567</td>\n",
              "        <td>25</td>\n",
              "        <td>4.0</td>\n",
              "        <td>1896</td>\n",
              "        <td>1766</td>\n",
              "    </tr>\n",
              "    <tr>\n",
              "        <td>2019-07</td>\n",
              "        <td>Naver</td>\n",
              "        <td>553</td>\n",
              "        <td>19</td>\n",
              "        <td>3.0</td>\n",
              "        <td>1547</td>\n",
              "        <td>1547</td>\n",
              "    </tr>\n",
              "    <tr>\n",
              "        <td>2019-07</td>\n",
              "        <td>Organic</td>\n",
              "        <td>557</td>\n",
              "        <td>24</td>\n",
              "        <td>4.0</td>\n",
              "        <td>1600</td>\n",
              "        <td>1600</td>\n",
              "    </tr>\n",
              "    <tr>\n",
              "        <td>2019-07</td>\n",
              "        <td>Youtube</td>\n",
              "        <td>564</td>\n",
              "        <td>36</td>\n",
              "        <td>6.0</td>\n",
              "        <td>2210</td>\n",
              "        <td>2037</td>\n",
              "    </tr>\n",
              "    <tr>\n",
              "        <td>2019-08</td>\n",
              "        <td>Facebook</td>\n",
              "        <td>611</td>\n",
              "        <td>18</td>\n",
              "        <td>2.0</td>\n",
              "        <td>1009</td>\n",
              "        <td>1009</td>\n",
              "    </tr>\n",
              "    <tr>\n",
              "        <td>2019-08</td>\n",
              "        <td>Google</td>\n",
              "        <td>610</td>\n",
              "        <td>28</td>\n",
              "        <td>4.0</td>\n",
              "        <td>2210</td>\n",
              "        <td>1894</td>\n",
              "    </tr>\n",
              "    <tr>\n",
              "        <td>2019-08</td>\n",
              "        <td>Instagram</td>\n",
              "        <td>621</td>\n",
              "        <td>28</td>\n",
              "        <td>4.0</td>\n",
              "        <td>2129</td>\n",
              "        <td>2001</td>\n",
              "    </tr>\n",
              "    <tr>\n",
              "        <td>2019-08</td>\n",
              "        <td>Naver</td>\n",
              "        <td>626</td>\n",
              "        <td>22</td>\n",
              "        <td>3.0</td>\n",
              "        <td>1829</td>\n",
              "        <td>1551</td>\n",
              "    </tr>\n",
              "    <tr>\n",
              "        <td>2019-08</td>\n",
              "        <td>Organic</td>\n",
              "        <td>608</td>\n",
              "        <td>26</td>\n",
              "        <td>4.0</td>\n",
              "        <td>1643</td>\n",
              "        <td>1606</td>\n",
              "    </tr>\n",
              "    <tr>\n",
              "        <td>2019-08</td>\n",
              "        <td>Youtube</td>\n",
              "        <td>614</td>\n",
              "        <td>18</td>\n",
              "        <td>2.0</td>\n",
              "        <td>987</td>\n",
              "        <td>950</td>\n",
              "    </tr>\n",
              "    <tr>\n",
              "        <td>2019-09</td>\n",
              "        <td>Facebook</td>\n",
              "        <td>597</td>\n",
              "        <td>27</td>\n",
              "        <td>4.0</td>\n",
              "        <td>2270</td>\n",
              "        <td>2270</td>\n",
              "    </tr>\n",
              "    <tr>\n",
              "        <td>2019-09</td>\n",
              "        <td>Google</td>\n",
              "        <td>599</td>\n",
              "        <td>25</td>\n",
              "        <td>4.0</td>\n",
              "        <td>1872</td>\n",
              "        <td>1691</td>\n",
              "    </tr>\n",
              "    <tr>\n",
              "        <td>2019-09</td>\n",
              "        <td>Instagram</td>\n",
              "        <td>588</td>\n",
              "        <td>20</td>\n",
              "        <td>3.0</td>\n",
              "        <td>1260</td>\n",
              "        <td>1122</td>\n",
              "    </tr>\n",
              "    <tr>\n",
              "        <td>2019-09</td>\n",
              "        <td>Naver</td>\n",
              "        <td>592</td>\n",
              "        <td>21</td>\n",
              "        <td>3.0</td>\n",
              "        <td>1996</td>\n",
              "        <td>1996</td>\n",
              "    </tr>\n",
              "    <tr>\n",
              "        <td>2019-09</td>\n",
              "        <td>Organic</td>\n",
              "        <td>592</td>\n",
              "        <td>23</td>\n",
              "        <td>3.0</td>\n",
              "        <td>1267</td>\n",
              "        <td>1267</td>\n",
              "    </tr>\n",
              "    <tr>\n",
              "        <td>2019-09</td>\n",
              "        <td>Youtube</td>\n",
              "        <td>588</td>\n",
              "        <td>15</td>\n",
              "        <td>2.0</td>\n",
              "        <td>1301</td>\n",
              "        <td>1301</td>\n",
              "    </tr>\n",
              "    <tr>\n",
              "        <td>2019-10</td>\n",
              "        <td>Facebook</td>\n",
              "        <td>698</td>\n",
              "        <td>29</td>\n",
              "        <td>4.0</td>\n",
              "        <td>1650</td>\n",
              "        <td>1641</td>\n",
              "    </tr>\n",
              "    <tr>\n",
              "        <td>2019-10</td>\n",
              "        <td>Google</td>\n",
              "        <td>699</td>\n",
              "        <td>30</td>\n",
              "        <td>4.0</td>\n",
              "        <td>2150</td>\n",
              "        <td>2098</td>\n",
              "    </tr>\n",
              "    <tr>\n",
              "        <td>2019-10</td>\n",
              "        <td>Instagram</td>\n",
              "        <td>707</td>\n",
              "        <td>34</td>\n",
              "        <td>4.0</td>\n",
              "        <td>2568</td>\n",
              "        <td>2395</td>\n",
              "    </tr>\n",
              "    <tr>\n",
              "        <td>2019-10</td>\n",
              "        <td>Naver</td>\n",
              "        <td>713</td>\n",
              "        <td>32</td>\n",
              "        <td>4.0</td>\n",
              "        <td>2695</td>\n",
              "        <td>2695</td>\n",
              "    </tr>\n",
              "    <tr>\n",
              "        <td>2019-10</td>\n",
              "        <td>Organic</td>\n",
              "        <td>709</td>\n",
              "        <td>31</td>\n",
              "        <td>4.0</td>\n",
              "        <td>2762</td>\n",
              "        <td>2608</td>\n",
              "    </tr>\n",
              "    <tr>\n",
              "        <td>2019-10</td>\n",
              "        <td>Youtube</td>\n",
              "        <td>705</td>\n",
              "        <td>34</td>\n",
              "        <td>4.0</td>\n",
              "        <td>2492</td>\n",
              "        <td>2319</td>\n",
              "    </tr>\n",
              "    <tr>\n",
              "        <td>2019-11</td>\n",
              "        <td>Facebook</td>\n",
              "        <td>688</td>\n",
              "        <td>26</td>\n",
              "        <td>3.0</td>\n",
              "        <td>1678</td>\n",
              "        <td>1678</td>\n",
              "    </tr>\n",
              "    <tr>\n",
              "        <td>2019-11</td>\n",
              "        <td>Google</td>\n",
              "        <td>688</td>\n",
              "        <td>26</td>\n",
              "        <td>3.0</td>\n",
              "        <td>2286</td>\n",
              "        <td>2235</td>\n",
              "    </tr>\n",
              "    <tr>\n",
              "        <td>2019-11</td>\n",
              "        <td>Instagram</td>\n",
              "        <td>669</td>\n",
              "        <td>25</td>\n",
              "        <td>3.0</td>\n",
              "        <td>2116</td>\n",
              "        <td>2116</td>\n",
              "    </tr>\n",
              "    <tr>\n",
              "        <td>2019-11</td>\n",
              "        <td>Naver</td>\n",
              "        <td>667</td>\n",
              "        <td>26</td>\n",
              "        <td>3.0</td>\n",
              "        <td>2234</td>\n",
              "        <td>1987</td>\n",
              "    </tr>\n",
              "    <tr>\n",
              "        <td>2019-11</td>\n",
              "        <td>Organic</td>\n",
              "        <td>677</td>\n",
              "        <td>34</td>\n",
              "        <td>5.0</td>\n",
              "        <td>2626</td>\n",
              "        <td>2255</td>\n",
              "    </tr>\n",
              "    <tr>\n",
              "        <td>2019-11</td>\n",
              "        <td>Youtube</td>\n",
              "        <td>677</td>\n",
              "        <td>46</td>\n",
              "        <td>6.0</td>\n",
              "        <td>3532</td>\n",
              "        <td>3331</td>\n",
              "    </tr>\n",
              "</table>"
            ],
            "text/plain": [
              "[('2019-05', 'Facebook', 247, 14, 5.0, 1199, 997),\n",
              " ('2019-05', 'Google', 253, 10, 3.0, 580, 580),\n",
              " ('2019-05', 'Instagram', 234, 11, 4.0, 959, 770),\n",
              " ('2019-05', 'Naver', 237, 11, 4.0, 867, 844),\n",
              " ('2019-05', 'Organic', 238, 17, 7.0, 1846, 1571),\n",
              " ('2019-05', 'Youtube', 244, 10, 4.0, 529, 529),\n",
              " ('2019-06', 'Facebook', 414, 22, 5.0, 1578, 1578),\n",
              " ('2019-06', 'Google', 412, 13, 3.0, 947, 947),\n",
              " ('2019-06', 'Instagram', 410, 21, 5.0, 1462, 1418),\n",
              " ('2019-06', 'Naver', 398, 15, 3.0, 1090, 1090),\n",
              " ('2019-06', 'Organic', 416, 14, 3.0, 1129, 940),\n",
              " ('2019-06', 'Youtube', 400, 17, 4.0, 1042, 1042),\n",
              " ('2019-07', 'Facebook', 558, 32, 5.0, 2222, 2144),\n",
              " ('2019-07', 'Google', 556, 21, 3.0, 1558, 1385),\n",
              " ('2019-07', 'Instagram', 567, 25, 4.0, 1896, 1766),\n",
              " ('2019-07', 'Naver', 553, 19, 3.0, 1547, 1547),\n",
              " ('2019-07', 'Organic', 557, 24, 4.0, 1600, 1600),\n",
              " ('2019-07', 'Youtube', 564, 36, 6.0, 2210, 2037),\n",
              " ('2019-08', 'Facebook', 611, 18, 2.0, 1009, 1009),\n",
              " ('2019-08', 'Google', 610, 28, 4.0, 2210, 1894),\n",
              " ('2019-08', 'Instagram', 621, 28, 4.0, 2129, 2001),\n",
              " ('2019-08', 'Naver', 626, 22, 3.0, 1829, 1551),\n",
              " ('2019-08', 'Organic', 608, 26, 4.0, 1643, 1606),\n",
              " ('2019-08', 'Youtube', 614, 18, 2.0, 987, 950),\n",
              " ('2019-09', 'Facebook', 597, 27, 4.0, 2270, 2270),\n",
              " ('2019-09', 'Google', 599, 25, 4.0, 1872, 1691),\n",
              " ('2019-09', 'Instagram', 588, 20, 3.0, 1260, 1122),\n",
              " ('2019-09', 'Naver', 592, 21, 3.0, 1996, 1996),\n",
              " ('2019-09', 'Organic', 592, 23, 3.0, 1267, 1267),\n",
              " ('2019-09', 'Youtube', 588, 15, 2.0, 1301, 1301),\n",
              " ('2019-10', 'Facebook', 698, 29, 4.0, 1650, 1641),\n",
              " ('2019-10', 'Google', 699, 30, 4.0, 2150, 2098),\n",
              " ('2019-10', 'Instagram', 707, 34, 4.0, 2568, 2395),\n",
              " ('2019-10', 'Naver', 713, 32, 4.0, 2695, 2695),\n",
              " ('2019-10', 'Organic', 709, 31, 4.0, 2762, 2608),\n",
              " ('2019-10', 'Youtube', 705, 34, 4.0, 2492, 2319),\n",
              " ('2019-11', 'Facebook', 688, 26, 3.0, 1678, 1678),\n",
              " ('2019-11', 'Google', 688, 26, 3.0, 2286, 2235),\n",
              " ('2019-11', 'Instagram', 669, 25, 3.0, 2116, 2116),\n",
              " ('2019-11', 'Naver', 667, 26, 3.0, 2234, 1987),\n",
              " ('2019-11', 'Organic', 677, 34, 5.0, 2626, 2255),\n",
              " ('2019-11', 'Youtube', 677, 46, 6.0, 3532, 3331)]"
            ]
          },
          "metadata": {
            "tags": []
          },
          "execution_count": 163
        }
      ]
    }
  ]
}