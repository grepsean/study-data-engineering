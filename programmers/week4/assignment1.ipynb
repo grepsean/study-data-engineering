{
  "nbformat": 4,
  "nbformat_minor": 0,
  "metadata": {
    "colab": {
      "name": "week4",
      "provenance": [],
      "collapsed_sections": []
    },
    "kernelspec": {
      "name": "python3",
      "display_name": "Python 3"
    }
  },
  "cells": [
    {
      "cell_type": "markdown",
      "metadata": {
        "id": "8vN1Xl3GsYfN"
      },
      "source": [
        "## 우선 사용할 DB 생성"
      ]
    },
    {
      "cell_type": "code",
      "metadata": {
        "id": "tGApO6P-LqPw"
      },
      "source": [
        "%load_ext sql"
      ],
      "execution_count": 6,
      "outputs": []
    },
    {
      "cell_type": "code",
      "metadata": {
        "id": "Zpnj973JM931",
        "outputId": "fe2c832d-88c4-457c-965c-71710962f149",
        "colab": {
          "base_uri": "https://localhost:8080/",
          "height": 35
        }
      },
      "source": [
        "# ID와 PW를 자신의 환경에 맞게 수정\n",
        "%sql postgresql://..."
      ],
      "execution_count": 7,
      "outputs": [
        {
          "output_type": "execute_result",
          "data": {
            "application/vnd.google.colaboratory.intrinsic+json": {
              "type": "string"
            },
            "text/plain": [
              "'Connected: seankkang@dev'"
            ]
          },
          "metadata": {
            "tags": []
          },
          "execution_count": 7
        }
      ]
    },
    {
      "cell_type": "code",
      "metadata": {
        "id": "Gv-Qe1-sshJ2",
        "outputId": "d9008cc4-465d-4204-ef66-c22ef180fb22",
        "colab": {
          "base_uri": "https://localhost:8080/"
        }
      },
      "source": [
        "%%sql\n",
        "CREATE TABLE IF NOT EXISTS seankkang.name_gender (\n",
        "   name varchar(32),\n",
        "   gender varchar(8)\n",
        ");\n"
      ],
      "execution_count": null,
      "outputs": [
        {
          "output_type": "stream",
          "text": [
            " * postgresql:/...\n",
            "Done.\n"
          ],
          "name": "stdout"
        },
        {
          "output_type": "execute_result",
          "data": {
            "text/plain": [
              "[]"
            ]
          },
          "metadata": {
            "tags": []
          },
          "execution_count": 4
        }
      ]
    },
    {
      "cell_type": "code",
      "metadata": {
        "id": "xQ4kwIuc2SBq",
        "outputId": "f607cedd-c7a6-4c4b-da19-8092f4788e93",
        "colab": {
          "base_uri": "https://localhost:8080/"
        }
      },
      "source": [
        "import psycopg2\n",
        "\n",
        "# Redshift connection 함수\n",
        "def get_Redshift_connection():\n",
        "    host = \"...\"\n",
        "    redshift_user = \"...\"\n",
        "    redshift_pass = \"...\"\n",
        "    port = 5439\n",
        "    dbname = \"dev\"\n",
        "    conn = psycopg2.connect(\"dbname={dbname} user={user} host={host} password={password} port={port}\".format(\n",
        "        dbname=dbname,\n",
        "        user=redshift_user,\n",
        "        password=redshift_pass,\n",
        "        host=host,\n",
        "        port=port\n",
        "    ))\n",
        "    conn.set_session(autocommit=True)\n",
        "    return conn.cursor()"
      ],
      "execution_count": 1,
      "outputs": [
        {
          "output_type": "stream",
          "text": [
            "/usr/local/lib/python3.6/dist-packages/psycopg2/__init__.py:144: UserWarning: The psycopg2 wheel package will be renamed from release 2.8; in order to keep installing from binary please use \"pip install psycopg2-binary\" instead. For details see: <http://initd.org/psycopg/docs/install.html#binary-install-from-pypi>.\n",
            "  \"\"\")\n"
          ],
          "name": "stderr"
        }
      ]
    },
    {
      "cell_type": "markdown",
      "metadata": {
        "id": "XVtoIXUGWcWR"
      },
      "source": [
        "# ETL 함수를 하나씩 정의"
      ]
    },
    {
      "cell_type": "code",
      "metadata": {
        "id": "gjDwY95epWDi"
      },
      "source": [
        "import requests\n",
        "\n",
        "def extract(url):\n",
        "    f = requests.get(url)\n",
        "    return (f.text)"
      ],
      "execution_count": 2,
      "outputs": []
    },
    {
      "cell_type": "code",
      "metadata": {
        "id": "0pz_AfKj8vXl"
      },
      "source": [
        "def transform(text):\n",
        "    lines = text.split(\"\\n\")\n",
        "    return lines"
      ],
      "execution_count": 3,
      "outputs": []
    },
    {
      "cell_type": "code",
      "metadata": {
        "id": "whLfutS48yCX"
      },
      "source": [
        "def execute_with_log(cursor, sql):\n",
        "  print(f'Execute : {sql};')\n",
        "  cursor.execute(sql)\n",
        "\n",
        "target_table = 'seankkang.name_gender'\n",
        "\n",
        "def load(lines):\n",
        "    # BEGIN과 END를 사용해서 SQL 결과를 트랜잭션으로 만들어주는 것이 좋음\n",
        "    # BEGIN;TRUNCATE TABLE;INSERT INTO TABLE VALUES ('KEEYONG', 'MALE');END;\n",
        "    cur = get_Redshift_connection()\n",
        "\n",
        "    # Starg transaction\n",
        "    execute_with_log(cur, f'BEGIN')\n",
        "    # Truncate table before Insert \n",
        "    execute_with_log(cur, f'TRUNCATE TABLE {target_table}')\n",
        "\n",
        "    for record in lines[1:]: # except header\n",
        "      if record and record.strip():\n",
        "        name, gender = record.split(',')\n",
        "        print(f'{name} - {gender}')\n",
        "\n",
        "        if name and gender:\n",
        "          execute_with_log(cur, f\"INSERT INTO {target_table} VALUES ('{name}', '{gender}')\")\n",
        "        \n",
        "    # End transation \n",
        "    execute_with_log(cur, f'END')"
      ],
      "execution_count": 8,
      "outputs": []
    },
    {
      "cell_type": "markdown",
      "metadata": {
        "id": "nOOqLjKsWj7g"
      },
      "source": [
        "# 이제 Extract부터 함수를 하나씩 실행"
      ]
    },
    {
      "cell_type": "code",
      "metadata": {
        "id": "a7msW5cl2bUe",
        "outputId": "36ebc2c1-6460-4e4d-ec03-4aa92d4d07c9",
        "colab": {
          "base_uri": "https://localhost:8080/",
          "height": 95
        }
      },
      "source": [
        "%%sql\n",
        "SELECT COUNT(1) FROM seankkang.name_gender"
      ],
      "execution_count": 9,
      "outputs": [
        {
          "output_type": "stream",
          "text": [
            " * postgresql://...\n",
            "1 rows affected.\n"
          ],
          "name": "stdout"
        },
        {
          "output_type": "execute_result",
          "data": {
            "text/html": [
              "<table>\n",
              "    <tr>\n",
              "        <th>count</th>\n",
              "    </tr>\n",
              "    <tr>\n",
              "        <td>0</td>\n",
              "    </tr>\n",
              "</table>"
            ],
            "text/plain": [
              "[(0,)]"
            ]
          },
          "metadata": {
            "tags": []
          },
          "execution_count": 9
        }
      ]
    },
    {
      "cell_type": "code",
      "metadata": {
        "id": "8cGBsu5Mv4J2"
      },
      "source": [
        "link = \"https://s3-geospatial.s3-us-west-2.amazonaws.com/name_gender.csv\"\n",
        "\n",
        "data = extract(link)"
      ],
      "execution_count": 10,
      "outputs": []
    },
    {
      "cell_type": "code",
      "metadata": {
        "id": "NYVbGIWJ84tm"
      },
      "source": [
        "lines = transform(data)"
      ],
      "execution_count": 11,
      "outputs": []
    },
    {
      "cell_type": "code",
      "metadata": {
        "id": "iWeBp9YA86-O",
        "outputId": "dee9aef9-c003-4396-fbf2-e622f31517cb",
        "colab": {
          "base_uri": "https://localhost:8080/"
        }
      },
      "source": [
        "load(lines)"
      ],
      "execution_count": 12,
      "outputs": [
        {
          "output_type": "stream",
          "text": [
            "Execute : BEGIN;\n",
            "Execute : TRUNCATE TABLE seankkang.name_gender;\n",
            "Adaleigh - F\n",
            "Execute : INSERT INTO seankkang.name_gender VALUES ('Adaleigh', 'F');\n",
            "Amryn - Unisex\n",
            "Execute : INSERT INTO seankkang.name_gender VALUES ('Amryn', 'Unisex');\n",
            "Apurva - Unisex\n",
            "Execute : INSERT INTO seankkang.name_gender VALUES ('Apurva', 'Unisex');\n",
            "Aryion - M\n",
            "Execute : INSERT INTO seankkang.name_gender VALUES ('Aryion', 'M');\n",
            "Alixia - F\n",
            "Execute : INSERT INTO seankkang.name_gender VALUES ('Alixia', 'F');\n",
            "Alyssarose - F\n",
            "Execute : INSERT INTO seankkang.name_gender VALUES ('Alyssarose', 'F');\n",
            "Arvell - M\n",
            "Execute : INSERT INTO seankkang.name_gender VALUES ('Arvell', 'M');\n",
            "Aibel - M\n",
            "Execute : INSERT INTO seankkang.name_gender VALUES ('Aibel', 'M');\n",
            "Atiyyah - F\n",
            "Execute : INSERT INTO seankkang.name_gender VALUES ('Atiyyah', 'F');\n",
            "Adlie - F\n",
            "Execute : INSERT INTO seankkang.name_gender VALUES ('Adlie', 'F');\n",
            "Anyely - F\n",
            "Execute : INSERT INTO seankkang.name_gender VALUES ('Anyely', 'F');\n",
            "Aamoni - F\n",
            "Execute : INSERT INTO seankkang.name_gender VALUES ('Aamoni', 'F');\n",
            "Ahman - M\n",
            "Execute : INSERT INTO seankkang.name_gender VALUES ('Ahman', 'M');\n",
            "Arlane - F\n",
            "Execute : INSERT INTO seankkang.name_gender VALUES ('Arlane', 'F');\n",
            "Armoney - F\n",
            "Execute : INSERT INTO seankkang.name_gender VALUES ('Armoney', 'F');\n",
            "Atzhiry - F\n",
            "Execute : INSERT INTO seankkang.name_gender VALUES ('Atzhiry', 'F');\n",
            "Antonette - F\n",
            "Execute : INSERT INTO seankkang.name_gender VALUES ('Antonette', 'F');\n",
            "Akeelah - F\n",
            "Execute : INSERT INTO seankkang.name_gender VALUES ('Akeelah', 'F');\n",
            "Abdikadir - M\n",
            "Execute : INSERT INTO seankkang.name_gender VALUES ('Abdikadir', 'M');\n",
            "Arinze - M\n",
            "Execute : INSERT INTO seankkang.name_gender VALUES ('Arinze', 'M');\n",
            "Arshaun - M\n",
            "Execute : INSERT INTO seankkang.name_gender VALUES ('Arshaun', 'M');\n",
            "Alexandro - M\n",
            "Execute : INSERT INTO seankkang.name_gender VALUES ('Alexandro', 'M');\n",
            "Ayriauna - F\n",
            "Execute : INSERT INTO seankkang.name_gender VALUES ('Ayriauna', 'F');\n",
            "Aqib - M\n",
            "Execute : INSERT INTO seankkang.name_gender VALUES ('Aqib', 'M');\n",
            "Alleya - F\n",
            "Execute : INSERT INTO seankkang.name_gender VALUES ('Alleya', 'F');\n",
            "Aavah - F\n",
            "Execute : INSERT INTO seankkang.name_gender VALUES ('Aavah', 'F');\n",
            "Anesti - Unisex\n",
            "Execute : INSERT INTO seankkang.name_gender VALUES ('Anesti', 'Unisex');\n",
            "Adalaide - F\n",
            "Execute : INSERT INTO seankkang.name_gender VALUES ('Adalaide', 'F');\n",
            "Analena - F\n",
            "Execute : INSERT INTO seankkang.name_gender VALUES ('Analena', 'F');\n",
            "Alaeyah - F\n",
            "Execute : INSERT INTO seankkang.name_gender VALUES ('Alaeyah', 'F');\n",
            "Albena - F\n",
            "Execute : INSERT INTO seankkang.name_gender VALUES ('Albena', 'F');\n",
            "Aimi - F\n",
            "Execute : INSERT INTO seankkang.name_gender VALUES ('Aimi', 'F');\n",
            "Adwaith - M\n",
            "Execute : INSERT INTO seankkang.name_gender VALUES ('Adwaith', 'M');\n",
            "Arkady - M\n",
            "Execute : INSERT INTO seankkang.name_gender VALUES ('Arkady', 'M');\n",
            "Astyn - Unisex\n",
            "Execute : INSERT INTO seankkang.name_gender VALUES ('Astyn', 'Unisex');\n",
            "Adelee - F\n",
            "Execute : INSERT INTO seankkang.name_gender VALUES ('Adelee', 'F');\n",
            "Agata - F\n",
            "Execute : INSERT INTO seankkang.name_gender VALUES ('Agata', 'F');\n",
            "Alegna - F\n",
            "Execute : INSERT INTO seankkang.name_gender VALUES ('Alegna', 'F');\n",
            "Altan - M\n",
            "Execute : INSERT INTO seankkang.name_gender VALUES ('Altan', 'M');\n",
            "Ahnaleigh - F\n",
            "Execute : INSERT INTO seankkang.name_gender VALUES ('Ahnaleigh', 'F');\n",
            "Algie - Unisex\n",
            "Execute : INSERT INTO seankkang.name_gender VALUES ('Algie', 'Unisex');\n",
            "Ashanti - F\n",
            "Execute : INSERT INTO seankkang.name_gender VALUES ('Ashanti', 'F');\n",
            "Aislyn - F\n",
            "Execute : INSERT INTO seankkang.name_gender VALUES ('Aislyn', 'F');\n",
            "Adaleine - F\n",
            "Execute : INSERT INTO seankkang.name_gender VALUES ('Adaleine', 'F');\n",
            "Anthnoy - M\n",
            "Execute : INSERT INTO seankkang.name_gender VALUES ('Anthnoy', 'M');\n",
            "Algernon - M\n",
            "Execute : INSERT INTO seankkang.name_gender VALUES ('Algernon', 'M');\n",
            "Aeryona - F\n",
            "Execute : INSERT INTO seankkang.name_gender VALUES ('Aeryona', 'F');\n",
            "Adrinne - F\n",
            "Execute : INSERT INTO seankkang.name_gender VALUES ('Adrinne', 'F');\n",
            "Addell - F\n",
            "Execute : INSERT INTO seankkang.name_gender VALUES ('Addell', 'F');\n",
            "Avril - F\n",
            "Execute : INSERT INTO seankkang.name_gender VALUES ('Avril', 'F');\n",
            "Ahni - F\n",
            "Execute : INSERT INTO seankkang.name_gender VALUES ('Ahni', 'F');\n",
            "Aimon - M\n",
            "Execute : INSERT INTO seankkang.name_gender VALUES ('Aimon', 'M');\n",
            "Adolpho - M\n",
            "Execute : INSERT INTO seankkang.name_gender VALUES ('Adolpho', 'M');\n",
            "Ahuva - F\n",
            "Execute : INSERT INTO seankkang.name_gender VALUES ('Ahuva', 'F');\n",
            "Aurielle - F\n",
            "Execute : INSERT INTO seankkang.name_gender VALUES ('Aurielle', 'F');\n",
            "Aveana - F\n",
            "Execute : INSERT INTO seankkang.name_gender VALUES ('Aveana', 'F');\n",
            "Aliyia - F\n",
            "Execute : INSERT INTO seankkang.name_gender VALUES ('Aliyia', 'F');\n",
            "Alesander - M\n",
            "Execute : INSERT INTO seankkang.name_gender VALUES ('Alesander', 'M');\n",
            "Adnrea - F\n",
            "Execute : INSERT INTO seankkang.name_gender VALUES ('Adnrea', 'F');\n",
            "Anjae - F\n",
            "Execute : INSERT INTO seankkang.name_gender VALUES ('Anjae', 'F');\n",
            "Alvine - F\n",
            "Execute : INSERT INTO seankkang.name_gender VALUES ('Alvine', 'F');\n",
            "Adorah - F\n",
            "Execute : INSERT INTO seankkang.name_gender VALUES ('Adorah', 'F');\n",
            "Adlemi - F\n",
            "Execute : INSERT INTO seankkang.name_gender VALUES ('Adlemi', 'F');\n",
            "Alesi - F\n",
            "Execute : INSERT INTO seankkang.name_gender VALUES ('Alesi', 'F');\n",
            "Alontae - M\n",
            "Execute : INSERT INTO seankkang.name_gender VALUES ('Alontae', 'M');\n",
            "Antonny - M\n",
            "Execute : INSERT INTO seankkang.name_gender VALUES ('Antonny', 'M');\n",
            "Adarah - F\n",
            "Execute : INSERT INTO seankkang.name_gender VALUES ('Adarah', 'F');\n",
            "Ayreanna - F\n",
            "Execute : INSERT INTO seankkang.name_gender VALUES ('Ayreanna', 'F');\n",
            "Antyon - M\n",
            "Execute : INSERT INTO seankkang.name_gender VALUES ('Antyon', 'M');\n",
            "Andia - F\n",
            "Execute : INSERT INTO seankkang.name_gender VALUES ('Andia', 'F');\n",
            "Ashla - F\n",
            "Execute : INSERT INTO seankkang.name_gender VALUES ('Ashla', 'F');\n",
            "Aspyn - F\n",
            "Execute : INSERT INTO seankkang.name_gender VALUES ('Aspyn', 'F');\n",
            "Antwanett - F\n",
            "Execute : INSERT INTO seankkang.name_gender VALUES ('Antwanett', 'F');\n",
            "Aundreia - F\n",
            "Execute : INSERT INTO seankkang.name_gender VALUES ('Aundreia', 'F');\n",
            "Audella - F\n",
            "Execute : INSERT INTO seankkang.name_gender VALUES ('Audella', 'F');\n",
            "Amari - Unisex\n",
            "Execute : INSERT INTO seankkang.name_gender VALUES ('Amari', 'Unisex');\n",
            "Arsha - Unisex\n",
            "Execute : INSERT INTO seankkang.name_gender VALUES ('Arsha', 'Unisex');\n",
            "Aricella - F\n",
            "Execute : INSERT INTO seankkang.name_gender VALUES ('Aricella', 'F');\n",
            "Adan - M\n",
            "Execute : INSERT INTO seankkang.name_gender VALUES ('Adan', 'M');\n",
            "Apasra - F\n",
            "Execute : INSERT INTO seankkang.name_gender VALUES ('Apasra', 'F');\n",
            "Alaysha - F\n",
            "Execute : INSERT INTO seankkang.name_gender VALUES ('Alaysha', 'F');\n",
            "Anderson - M\n",
            "Execute : INSERT INTO seankkang.name_gender VALUES ('Anderson', 'M');\n",
            "Aurelius - M\n",
            "Execute : INSERT INTO seankkang.name_gender VALUES ('Aurelius', 'M');\n",
            "Aerial - F\n",
            "Execute : INSERT INTO seankkang.name_gender VALUES ('Aerial', 'F');\n",
            "Averleigh - F\n",
            "Execute : INSERT INTO seankkang.name_gender VALUES ('Averleigh', 'F');\n",
            "Aslean - F\n",
            "Execute : INSERT INTO seankkang.name_gender VALUES ('Aslean', 'F');\n",
            "Arniesha - F\n",
            "Execute : INSERT INTO seankkang.name_gender VALUES ('Arniesha', 'F');\n",
            "Asyana - F\n",
            "Execute : INSERT INTO seankkang.name_gender VALUES ('Asyana', 'F');\n",
            "Annjane - F\n",
            "Execute : INSERT INTO seankkang.name_gender VALUES ('Annjane', 'F');\n",
            "Amabella - F\n",
            "Execute : INSERT INTO seankkang.name_gender VALUES ('Amabella', 'F');\n",
            "Austinjohn - M\n",
            "Execute : INSERT INTO seankkang.name_gender VALUES ('Austinjohn', 'M');\n",
            "Arloween - F\n",
            "Execute : INSERT INTO seankkang.name_gender VALUES ('Arloween', 'F');\n",
            "Alula - M\n",
            "Execute : INSERT INTO seankkang.name_gender VALUES ('Alula', 'M');\n",
            "Anemone - F\n",
            "Execute : INSERT INTO seankkang.name_gender VALUES ('Anemone', 'F');\n",
            "Amorina - F\n",
            "Execute : INSERT INTO seankkang.name_gender VALUES ('Amorina', 'F');\n",
            "Anureet - F\n",
            "Execute : INSERT INTO seankkang.name_gender VALUES ('Anureet', 'F');\n",
            "Arric - M\n",
            "Execute : INSERT INTO seankkang.name_gender VALUES ('Arric', 'M');\n",
            "Antonne - M\n",
            "Execute : INSERT INTO seankkang.name_gender VALUES ('Antonne', 'M');\n",
            "Alyre - M\n",
            "Execute : INSERT INTO seankkang.name_gender VALUES ('Alyre', 'M');\n",
            "Annaise - F\n",
            "Execute : INSERT INTO seankkang.name_gender VALUES ('Annaise', 'F');\n",
            "Execute : END;\n"
          ],
          "name": "stdout"
        }
      ]
    },
    {
      "cell_type": "code",
      "metadata": {
        "id": "b2tCeJtSWti4",
        "outputId": "cb465920-496d-4cf0-9dc4-a7676ab9aec9",
        "colab": {
          "base_uri": "https://localhost:8080/",
          "height": 95
        }
      },
      "source": [
        "%%sql\n",
        "SELECT COUNT(1) FROM seankkang.name_gender"
      ],
      "execution_count": 13,
      "outputs": [
        {
          "output_type": "stream",
          "text": [
            " * postgresql://...\n",
            "1 rows affected.\n"
          ],
          "name": "stdout"
        },
        {
          "output_type": "execute_result",
          "data": {
            "text/html": [
              "<table>\n",
              "    <tr>\n",
              "        <th>count</th>\n",
              "    </tr>\n",
              "    <tr>\n",
              "        <td>100</td>\n",
              "    </tr>\n",
              "</table>"
            ],
            "text/plain": [
              "[(100,)]"
            ]
          },
          "metadata": {
            "tags": []
          },
          "execution_count": 13
        }
      ]
    },
    {
      "cell_type": "code",
      "metadata": {
        "id": "6Xa602-02idd"
      },
      "source": [
        ""
      ],
      "execution_count": null,
      "outputs": []
    }
  ]
}